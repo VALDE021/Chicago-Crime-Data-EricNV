{
 "cells": [
  {
   "cell_type": "markdown",
   "id": "216836c2-8734-4972-9719-b7c6487cd71b",
   "metadata": {},
   "source": [
    "# <center><u> Project 3  Part 2 Core</center>\n",
    "* Authored By: Eric N. Valdez\n",
    "* Date: 2/11/2024"
   ]
  },
  {
   "cell_type": "markdown",
   "id": "09f732be-faad-4f3d-b19c-171c7467a8e3",
   "metadata": {},
   "source": [
    "## <u>Part 2"
   ]
  },
  {
   "cell_type": "markdown",
   "id": "657b89b7-d809-4142-90c1-edf60e9eab11",
   "metadata": {},
   "source": [
    "Fore this phase of the project you will be helping Chcago law enforcement allocate resources for next 6 months.\n",
    "\n",
    "You will compare the crime count forecast for <u>`2`</u> of the options below:\n",
    "* Theft\n",
    "* Battery\n",
    "* Narcotics\n",
    "* Assault\n",
    "* Total Crime `(sum of all crime types).`"
   ]
  },
  {
   "cell_type": "markdown",
   "id": "0f4ba2a2-ce88-43fe-8215-61f3cf0f434a",
   "metadata": {},
   "source": [
    "**`For each of your selected crimes, perform the following steps to develop a forecast.`**\n",
    "* Transform the data to obtain a time series of the crime count <u>per month using .size().</u>\n",
    "* Check for and address null values\n",
    "* Decompose the Time Series to detect seaonality and decide whetehr to use a seasonal model or not\n",
    "* Determine if nonseasonal and / or seasonal differencing is reqired\n",
    "* Use the ACF and PACF plots of stationarity data to estimate initial orders\n",
    "* Split the time series into training and test data `(Remember we want to predict 6 months)`\n",
    "* Fit a manual ARIMA/SARIMA model based on the orders during your exploration.\n",
    "    * Make forecast with your model.\n",
    "    * Plot the forecasts versus the test data\n",
    "    * Obtain metrics for evaluation\n",
    "* Tune with pmdarima's auto_arima\n",
    "    * Fit a model n training data with the best parameters from auto_arima\n",
    "    * Obtain metrics for evaluation\n",
    "    * Make forecasts with the auto_arima model\n",
    "    * Plot the forecasts versus the test data \n",
    "* Select the final model and jsutify your choice. `(Which metrics or diagnostics support yourchoice?)`\n",
    "* Make true future forecasts using the entire dataset `(for dates beyond the entire ts)`"
   ]
  },
  {
   "cell_type": "code",
   "execution_count": null,
   "id": "bca4e4bd-6321-4602-befc-a23fc0001fec",
   "metadata": {},
   "outputs": [],
   "source": []
  },
  {
   "cell_type": "markdown",
   "id": "4aae5278-22c0-4917-aa4f-6f99d477cf67",
   "metadata": {},
   "source": [
    "**For each of your two selected crimes, answer the following questions in a markdown cell:**\n",
    "* Calculate the predicted net change in the number `(raw counts)` of this type of crime from the beginning of the forecast to the end.\n",
    "* Convert the raw delta into a percent change.  "
   ]
  },
  {
   "cell_type": "code",
   "execution_count": null,
   "id": "0c254c23-4371-4e6b-828a-1ad9f16d0808",
   "metadata": {},
   "outputs": [],
   "source": []
  },
  {
   "cell_type": "markdown",
   "id": "cbb6349c-098b-486a-9216-346e9b300382",
   "metadata": {},
   "source": [
    "**`Final Evaluation:`**\n",
    "\n",
    "After completing both models and getting the forecasts for both crimes for 6 months into the future `(beyond the data),` answer the following quesitons in a <u>Markdown Cell:"
   ]
  },
  {
   "cell_type": "markdown",
   "id": "507eba9e-0556-4974-925b-ec4300ab8c1f",
   "metadata": {},
   "source": [
    "### <u>Of the two crimes, which is forecasted to have the highest monthly count of crimes at the end of the forecast?\n",
    "* `Answer:`"
   ]
  },
  {
   "cell_type": "markdown",
   "id": "788382ce-2792-4528-8da2-b61cb594f614",
   "metadata": {},
   "source": [
    "### <u>Of the two crimes, which is forecasted to have the highest net change by the end of the forecast?\n",
    "* `Answer:`"
   ]
  },
  {
   "cell_type": "markdown",
   "id": "2f5a2aeb-9be8-4d5e-8816-3894a3c2723b",
   "metadata": {},
   "source": [
    "### <u> Of the two crimes, which is forecasted to have the highest percent change by the end of the forecast?\n",
    "* `Answer:`"
   ]
  },
  {
   "cell_type": "code",
   "execution_count": null,
   "id": "859d3ea8-5e79-4f61-a84f-ed5760de89ad",
   "metadata": {},
   "outputs": [],
   "source": []
  },
  {
   "cell_type": "markdown",
   "id": "6feca2a8-1165-4fab-b05a-f443387ddbbb",
   "metadata": {},
   "source": [
    "**`Final Recomendations`**\n",
    "* What recommendation would you make to the stakeholders?\n",
    "* Include reporting_quality visual(s) to support your recommendation."
   ]
  }
 ],
 "metadata": {
  "kernelspec": {
   "display_name": "Python 3 (ipykernel)",
   "language": "python",
   "name": "python3"
  },
  "language_info": {
   "codemirror_mode": {
    "name": "ipython",
    "version": 3
   },
   "file_extension": ".py",
   "mimetype": "text/x-python",
   "name": "python",
   "nbconvert_exporter": "python",
   "pygments_lexer": "ipython3",
   "version": "3.10.10"
  },
  "widgets": {
   "application/vnd.jupyter.widget-state+json": {
    "state": {},
    "version_major": 2,
    "version_minor": 0
   }
  }
 },
 "nbformat": 4,
 "nbformat_minor": 5
}
