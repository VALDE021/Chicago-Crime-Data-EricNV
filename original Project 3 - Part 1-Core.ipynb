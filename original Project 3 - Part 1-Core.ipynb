{
 "cells": [
  {
   "cell_type": "markdown",
   "id": "586d314c-73d5-4319-bb56-5b7c1c8b04a0",
   "metadata": {},
   "source": [
    "# <u><center>**Crime Data Part 1**</u>\n",
    "* Authored By: Eric N Valdez\n",
    "* Date: 02/11/2024"
   ]
  },
  {
   "cell_type": "markdown",
   "id": "8ae9b786-d600-4fb7-8fd3-50549854c879",
   "metadata": {},
   "source": [
    "## <u>Chicago Crime Data</u>\n",
    "* **We have prepared a zip file with the Chicago crime data** which you can download [here](https://drive.google.com/file/d/1avxUlCAros-R9GF6SKXqM_GopzO7VwA5/view).\n",
    "* `Original Source:` Chicago Data Portal: Crimes 2001 to Present\n",
    "    * Data Description:\n",
    "        * All Crimes were reported in the city of Chicago and their details [View Preview](https://data.cityofchicago.org/Public-Safety/Crimes-2001-to-Present/ijzp-q8t2/data)\n",
    "    * Includes:\n",
    "        * type of crime, exact date /time, lat/long, District \n",
    "    * `Note:` \n",
    "    * We have provided a .zipfile (linked above with the data in a repo-friendly format. For those who are curious the code for converting the downloaded file to the .zip file of individual years, please see [this helper notebook.](https://github.com/coding-dojo-data-science/preparing-chicago-crime-data/blob/admin/Workflow%20-%20Prep%20Chicago%20Crime%20Data.ipynb)"
   ]
  },
  {
   "cell_type": "markdown",
   "id": "3016d30b-5885-4c95-ade6-49086d5f6d71",
   "metadata": {},
   "source": [
    "* **Supplemental Data: Holiday Data**\n",
    "    * Check the lesson on \"Feature Engineering: Holidays\" to see how to use they Python 'holidays' package to add holidays to your dataset.\n",
    "* **Notes/Considerations:**\n",
    "    * You may need to keep 2 forms of the data:\n",
    "        * The `original` individual crime data wotj a datetime index. `(Each row is 1 crime)`\n",
    "        * A resampled / converted crime counts version `(Each row is 1 day)`  "
   ]
  },
  {
   "cell_type": "markdown",
   "id": "3fe10156-ae50-4953-aa3a-db3e6c38a91a",
   "metadata": {},
   "source": [
    "# <u>Task</u>\n",
    "Your task is to answer a series of questions about trends in crimes in Chicago for a reporter for the local newspaper.\n",
    "\n",
    "**Stakeholder Questions to Answer (Pick at least 3 tipics)**:\n",
    "\n",
    "<u>Select 3 or more of the following topics to analyze:"
   ]
  },
  {
   "cell_type": "markdown",
   "id": "e1959a4d-b186-478a-b9d0-82595fad9ebc",
   "metadata": {},
   "source": [
    "### <u>Helper Notes\n",
    "* Load the data\n",
    "* Holidays\n",
    "* pd.to_datetime\n",
    "* Df.set_index(‘Date’)\n",
    "* Df.sort_index()\n",
    "* crime_counts = Df.groupby(‘Primary Type’).resample(‘D’).size()\n",
    "* df_counts = crime_counts.unstack(level = 0)\n",
    "* df_counts = df_counts.fillna(0)\n",
    "* Then feature engineering"
   ]
  },
  {
   "cell_type": "markdown",
   "id": "4bbcb2ff-6823-427e-8fa1-92d837d43f19",
   "metadata": {},
   "source": [
    "## <u>Imports"
   ]
  },
  {
   "cell_type": "code",
   "execution_count": 1,
   "id": "d6ca5572-625a-4180-8e40-dc061274b314",
   "metadata": {},
   "outputs": [
    {
     "name": "stdout",
     "output_type": "stream",
     "text": [
      "Requirement already satisfied: holidays in c:\\users\\valde\\anaconda3\\envs\\dojo-env\\lib\\site-packages (0.25)\n",
      "Requirement already satisfied: korean-lunar-calendar in c:\\users\\valde\\anaconda3\\envs\\dojo-env\\lib\\site-packages (from holidays) (0.3.1)\n",
      "Requirement already satisfied: python-dateutil in c:\\users\\valde\\anaconda3\\envs\\dojo-env\\lib\\site-packages (from holidays) (2.8.2)\n",
      "Requirement already satisfied: six>=1.5 in c:\\users\\valde\\anaconda3\\envs\\dojo-env\\lib\\site-packages (from python-dateutil->holidays) (1.16.0)\n"
     ]
    }
   ],
   "source": [
    "import pandas as pd\n",
    "import numpy as np\n",
    "import matplotlib as mpl\n",
    "import matplotlib.pyplot as plt\n",
    "import seaborn as sns\n",
    "import glob\n",
    "import os\n",
    "import calendar\n",
    "\n",
    "# imports for supplemental Data\n",
    "!pip install holidays\n",
    "import holidays\n",
    "import datetime as dt\n",
    "from matplotlib import dates as mdates\n",
    "from holidays import country_holidays\n",
    "\n",
    "#import tick customization tools\n",
    "import matplotlib.ticker as mticks\n",
    "import matplotlib.dates as mdates\n",
    "\n",
    "## Setting figures to timeseries-friendly\n",
    "plt.rcParams['figure.figsize'] = (12,4)\n",
    "plt.rcParams['figure.facecolor'] = 'white'\n",
    "sns.set_context(\"talk\", font_scale=0.9)\n",
    "\n",
    "# set random seed\n",
    "SEED = 321\n",
    "np.random.seed(SEED)\n",
    "\n",
    "#display more columns\n",
    "pd.set_option('display.max_columns',50)"
   ]
  },
  {
   "cell_type": "code",
   "execution_count": 2,
   "id": "45dde989-8fb9-4906-a851-ebbb3c63e351",
   "metadata": {},
   "outputs": [],
   "source": [
    "# function to format y-axis units\n",
    "def thousands(x, pos):\n",
    "    \"\"\"formats count in thousands\"\"\"\n",
    "    new_x = x / 1000\n",
    "    return f\"{new_x:,.0f}K\""
   ]
  },
  {
   "cell_type": "code",
   "execution_count": 3,
   "id": "e93d2096-a156-4f29-be32-2eebcd505682",
   "metadata": {},
   "outputs": [
    {
     "data": {
      "text/plain": [
       "['Data\\\\Chicago-Crime_2001.csv',\n",
       " 'Data\\\\Chicago-Crime_2002.csv',\n",
       " 'Data\\\\Chicago-Crime_2003.csv',\n",
       " 'Data\\\\Chicago-Crime_2004.csv',\n",
       " 'Data\\\\Chicago-Crime_2005.csv',\n",
       " 'Data\\\\Chicago-Crime_2006.csv',\n",
       " 'Data\\\\Chicago-Crime_2007.csv',\n",
       " 'Data\\\\Chicago-Crime_2008.csv',\n",
       " 'Data\\\\Chicago-Crime_2009.csv',\n",
       " 'Data\\\\Chicago-Crime_2010.csv',\n",
       " 'Data\\\\Chicago-Crime_2011.csv',\n",
       " 'Data\\\\Chicago-Crime_2012.csv',\n",
       " 'Data\\\\Chicago-Crime_2013.csv',\n",
       " 'Data\\\\Chicago-Crime_2014.csv',\n",
       " 'Data\\\\Chicago-Crime_2015.csv',\n",
       " 'Data\\\\Chicago-Crime_2016.csv',\n",
       " 'Data\\\\Chicago-Crime_2017.csv',\n",
       " 'Data\\\\Chicago-Crime_2018.csv',\n",
       " 'Data\\\\Chicago-Crime_2019.csv',\n",
       " 'Data\\\\Chicago-Crime_2020.csv',\n",
       " 'Data\\\\Chicago-Crime_2021.csv',\n",
       " 'Data\\\\Chicago-Crime_2022.csv']"
      ]
     },
     "execution_count": 3,
     "metadata": {},
     "output_type": "execute_result"
    }
   ],
   "source": [
    "# # Set the path to the directory containing  CSV files\n",
    "# csv_files_path = 'Data/*.csv'\n",
    "# # Use the glob module to get a list of all CSV files in the specified directory\n",
    "# file_list = glob.glob(csv_files_path)\n",
    "# file_list\n",
    "### Changing load process to see if it help my code below\n",
    "file = \"Data/Chicago-Crime*.csv\"\n",
    "crime_data = sorted(glob.glob(file))\n",
    "crime_data"
   ]
  },
  {
   "cell_type": "code",
   "execution_count": 4,
   "id": "b91fc547-431a-4883-9f1c-6ef43f7b5b4b",
   "metadata": {},
   "outputs": [
    {
     "data": {
      "text/html": [
       "<div>\n",
       "<style scoped>\n",
       "    .dataframe tbody tr th:only-of-type {\n",
       "        vertical-align: middle;\n",
       "    }\n",
       "\n",
       "    .dataframe tbody tr th {\n",
       "        vertical-align: top;\n",
       "    }\n",
       "\n",
       "    .dataframe thead th {\n",
       "        text-align: right;\n",
       "    }\n",
       "</style>\n",
       "<table border=\"1\" class=\"dataframe\">\n",
       "  <thead>\n",
       "    <tr style=\"text-align: right;\">\n",
       "      <th></th>\n",
       "      <th>ID</th>\n",
       "      <th>Date</th>\n",
       "      <th>Primary Type</th>\n",
       "      <th>Description</th>\n",
       "      <th>Location Description</th>\n",
       "      <th>Arrest</th>\n",
       "      <th>Domestic</th>\n",
       "      <th>Beat</th>\n",
       "      <th>District</th>\n",
       "      <th>Ward</th>\n",
       "      <th>Latitude</th>\n",
       "      <th>Longitude</th>\n",
       "    </tr>\n",
       "  </thead>\n",
       "  <tbody>\n",
       "    <tr>\n",
       "      <th>0</th>\n",
       "      <td>1326041</td>\n",
       "      <td>01/01/2001 01:00:00 AM</td>\n",
       "      <td>BATTERY</td>\n",
       "      <td>SIMPLE</td>\n",
       "      <td>RESIDENCE</td>\n",
       "      <td>False</td>\n",
       "      <td>False</td>\n",
       "      <td>1624</td>\n",
       "      <td>16.0</td>\n",
       "      <td>NaN</td>\n",
       "      <td>41.957850</td>\n",
       "      <td>-87.749185</td>\n",
       "    </tr>\n",
       "    <tr>\n",
       "      <th>1</th>\n",
       "      <td>1319931</td>\n",
       "      <td>01/01/2001 01:00:00 PM</td>\n",
       "      <td>BATTERY</td>\n",
       "      <td>SIMPLE</td>\n",
       "      <td>RESIDENCE</td>\n",
       "      <td>False</td>\n",
       "      <td>True</td>\n",
       "      <td>825</td>\n",
       "      <td>8.0</td>\n",
       "      <td>NaN</td>\n",
       "      <td>41.783892</td>\n",
       "      <td>-87.684841</td>\n",
       "    </tr>\n",
       "    <tr>\n",
       "      <th>2</th>\n",
       "      <td>1324743</td>\n",
       "      <td>01/01/2001 01:00:00 PM</td>\n",
       "      <td>GAMBLING</td>\n",
       "      <td>ILLEGAL ILL LOTTERY</td>\n",
       "      <td>STREET</td>\n",
       "      <td>True</td>\n",
       "      <td>False</td>\n",
       "      <td>313</td>\n",
       "      <td>3.0</td>\n",
       "      <td>NaN</td>\n",
       "      <td>41.780412</td>\n",
       "      <td>-87.611970</td>\n",
       "    </tr>\n",
       "    <tr>\n",
       "      <th>3</th>\n",
       "      <td>1310717</td>\n",
       "      <td>01/01/2001 01:00:00 AM</td>\n",
       "      <td>CRIMINAL DAMAGE</td>\n",
       "      <td>TO VEHICLE</td>\n",
       "      <td>STREET</td>\n",
       "      <td>False</td>\n",
       "      <td>False</td>\n",
       "      <td>2424</td>\n",
       "      <td>24.0</td>\n",
       "      <td>NaN</td>\n",
       "      <td>42.012391</td>\n",
       "      <td>-87.678032</td>\n",
       "    </tr>\n",
       "    <tr>\n",
       "      <th>4</th>\n",
       "      <td>1318099</td>\n",
       "      <td>01/01/2001 01:00:00 AM</td>\n",
       "      <td>BATTERY</td>\n",
       "      <td>SIMPLE</td>\n",
       "      <td>RESIDENCE PORCH/HALLWAY</td>\n",
       "      <td>False</td>\n",
       "      <td>True</td>\n",
       "      <td>214</td>\n",
       "      <td>2.0</td>\n",
       "      <td>NaN</td>\n",
       "      <td>41.819538</td>\n",
       "      <td>-87.620020</td>\n",
       "    </tr>\n",
       "  </tbody>\n",
       "</table>\n",
       "</div>"
      ],
      "text/plain": [
       "        ID                    Date     Primary Type          Description  \\\n",
       "0  1326041  01/01/2001 01:00:00 AM          BATTERY               SIMPLE   \n",
       "1  1319931  01/01/2001 01:00:00 PM          BATTERY               SIMPLE   \n",
       "2  1324743  01/01/2001 01:00:00 PM         GAMBLING  ILLEGAL ILL LOTTERY   \n",
       "3  1310717  01/01/2001 01:00:00 AM  CRIMINAL DAMAGE           TO VEHICLE   \n",
       "4  1318099  01/01/2001 01:00:00 AM          BATTERY               SIMPLE   \n",
       "\n",
       "      Location Description  Arrest  Domestic  Beat  District  Ward   Latitude  \\\n",
       "0                RESIDENCE   False     False  1624      16.0   NaN  41.957850   \n",
       "1                RESIDENCE   False      True   825       8.0   NaN  41.783892   \n",
       "2                   STREET    True     False   313       3.0   NaN  41.780412   \n",
       "3                   STREET   False     False  2424      24.0   NaN  42.012391   \n",
       "4  RESIDENCE PORCH/HALLWAY   False      True   214       2.0   NaN  41.819538   \n",
       "\n",
       "   Longitude  \n",
       "0 -87.749185  \n",
       "1 -87.684841  \n",
       "2 -87.611970  \n",
       "3 -87.678032  \n",
       "4 -87.620020  "
      ]
     },
     "execution_count": 4,
     "metadata": {},
     "output_type": "execute_result"
    }
   ],
   "source": [
    "# # Looking over data\n",
    "# df = pd.concat([pd.read_csv(f) for f in file_list])\n",
    "# df\n",
    "# looking to see if this new code will help me out better for the codes below\n",
    "df = pd.concat([pd.read_csv(f, lineterminator='\\n') for f in crime_data])\n",
    "df.head()"
   ]
  },
  {
   "cell_type": "code",
   "execution_count": 5,
   "id": "be400b66-1bc2-4595-a9b5-21beee8e9df5",
   "metadata": {},
   "outputs": [
    {
     "data": {
      "text/plain": [
       "0        2001-01-01 01:00:00\n",
       "1        2001-01-01 13:00:00\n",
       "2        2001-01-01 13:00:00\n",
       "3        2001-01-01 01:00:00\n",
       "4        2001-01-01 01:00:00\n",
       "                 ...        \n",
       "238853   2022-12-31 12:50:00\n",
       "238854   2022-12-31 12:50:00\n",
       "238855   2022-12-31 00:52:00\n",
       "238856   2022-12-31 12:52:00\n",
       "238857   2022-12-31 12:59:00\n",
       "Name: Date, Length: 7713109, dtype: datetime64[ns]"
      ]
     },
     "execution_count": 5,
     "metadata": {},
     "output_type": "execute_result"
    }
   ],
   "source": [
    "# CORRECT - properly recognizes dates and does not interpret them as seconds\n",
    "df['Date'] = pd.to_datetime(df['Date'], format='%m/%d/%Y %I:%M:%S %p')\n",
    "df['Date']"
   ]
  },
  {
   "cell_type": "code",
   "execution_count": 6,
   "id": "365eb766-7ccc-4f7a-998c-c33f353c1da5",
   "metadata": {},
   "outputs": [
    {
     "data": {
      "text/html": [
       "<div>\n",
       "<style scoped>\n",
       "    .dataframe tbody tr th:only-of-type {\n",
       "        vertical-align: middle;\n",
       "    }\n",
       "\n",
       "    .dataframe tbody tr th {\n",
       "        vertical-align: top;\n",
       "    }\n",
       "\n",
       "    .dataframe thead th {\n",
       "        text-align: right;\n",
       "    }\n",
       "</style>\n",
       "<table border=\"1\" class=\"dataframe\">\n",
       "  <thead>\n",
       "    <tr style=\"text-align: right;\">\n",
       "      <th></th>\n",
       "      <th>ID</th>\n",
       "      <th>Primary Type</th>\n",
       "      <th>Description</th>\n",
       "      <th>Location Description</th>\n",
       "      <th>Arrest</th>\n",
       "      <th>Domestic</th>\n",
       "      <th>Beat</th>\n",
       "      <th>District</th>\n",
       "      <th>Ward</th>\n",
       "      <th>Latitude</th>\n",
       "      <th>Longitude</th>\n",
       "    </tr>\n",
       "    <tr>\n",
       "      <th>Date</th>\n",
       "      <th></th>\n",
       "      <th></th>\n",
       "      <th></th>\n",
       "      <th></th>\n",
       "      <th></th>\n",
       "      <th></th>\n",
       "      <th></th>\n",
       "      <th></th>\n",
       "      <th></th>\n",
       "      <th></th>\n",
       "      <th></th>\n",
       "    </tr>\n",
       "  </thead>\n",
       "  <tbody>\n",
       "    <tr>\n",
       "      <th>2001-01-01 01:00:00</th>\n",
       "      <td>1326041</td>\n",
       "      <td>BATTERY</td>\n",
       "      <td>SIMPLE</td>\n",
       "      <td>RESIDENCE</td>\n",
       "      <td>False</td>\n",
       "      <td>False</td>\n",
       "      <td>1624</td>\n",
       "      <td>16.0</td>\n",
       "      <td>NaN</td>\n",
       "      <td>41.957850</td>\n",
       "      <td>-87.749185</td>\n",
       "    </tr>\n",
       "    <tr>\n",
       "      <th>2001-01-01 13:00:00</th>\n",
       "      <td>1319931</td>\n",
       "      <td>BATTERY</td>\n",
       "      <td>SIMPLE</td>\n",
       "      <td>RESIDENCE</td>\n",
       "      <td>False</td>\n",
       "      <td>True</td>\n",
       "      <td>825</td>\n",
       "      <td>8.0</td>\n",
       "      <td>NaN</td>\n",
       "      <td>41.783892</td>\n",
       "      <td>-87.684841</td>\n",
       "    </tr>\n",
       "    <tr>\n",
       "      <th>2001-01-01 13:00:00</th>\n",
       "      <td>1324743</td>\n",
       "      <td>GAMBLING</td>\n",
       "      <td>ILLEGAL ILL LOTTERY</td>\n",
       "      <td>STREET</td>\n",
       "      <td>True</td>\n",
       "      <td>False</td>\n",
       "      <td>313</td>\n",
       "      <td>3.0</td>\n",
       "      <td>NaN</td>\n",
       "      <td>41.780412</td>\n",
       "      <td>-87.611970</td>\n",
       "    </tr>\n",
       "  </tbody>\n",
       "</table>\n",
       "</div>"
      ],
      "text/plain": [
       "                          ID Primary Type          Description  \\\n",
       "Date                                                             \n",
       "2001-01-01 01:00:00  1326041      BATTERY               SIMPLE   \n",
       "2001-01-01 13:00:00  1319931      BATTERY               SIMPLE   \n",
       "2001-01-01 13:00:00  1324743     GAMBLING  ILLEGAL ILL LOTTERY   \n",
       "\n",
       "                    Location Description  Arrest  Domestic  Beat  District  \\\n",
       "Date                                                                         \n",
       "2001-01-01 01:00:00            RESIDENCE   False     False  1624      16.0   \n",
       "2001-01-01 13:00:00            RESIDENCE   False      True   825       8.0   \n",
       "2001-01-01 13:00:00               STREET    True     False   313       3.0   \n",
       "\n",
       "                     Ward   Latitude  Longitude  \n",
       "Date                                             \n",
       "2001-01-01 01:00:00   NaN  41.957850 -87.749185  \n",
       "2001-01-01 13:00:00   NaN  41.783892 -87.684841  \n",
       "2001-01-01 13:00:00   NaN  41.780412 -87.611970  "
      ]
     },
     "execution_count": 6,
     "metadata": {},
     "output_type": "execute_result"
    }
   ],
   "source": [
    "#Inspect the new index of your dataframe.\n",
    "df = df.set_index('Date')\n",
    "df.head(3)"
   ]
  },
  {
   "cell_type": "code",
   "execution_count": 7,
   "id": "ef217310-f802-4f45-9c93-3ee6e39b9806",
   "metadata": {},
   "outputs": [
    {
     "data": {
      "text/plain": [
       "DatetimeIndex(['2001-01-01 01:00:00', '2001-01-01 13:00:00',\n",
       "               '2001-01-01 13:00:00', '2001-01-01 01:00:00',\n",
       "               '2001-01-01 01:00:00', '2001-01-01 01:00:00',\n",
       "               '2001-01-01 01:00:00', '2001-01-01 01:00:00',\n",
       "               '2001-01-01 01:00:00', '2001-01-01 01:00:00',\n",
       "               ...\n",
       "               '2022-12-31 12:41:00', '2022-12-31 00:42:00',\n",
       "               '2022-12-31 00:44:00', '2022-12-31 00:45:00',\n",
       "               '2022-12-31 12:45:00', '2022-12-31 12:50:00',\n",
       "               '2022-12-31 12:50:00', '2022-12-31 00:52:00',\n",
       "               '2022-12-31 12:52:00', '2022-12-31 12:59:00'],\n",
       "              dtype='datetime64[ns]', name='Date', length=7713109, freq=None)"
      ]
     },
     "execution_count": 7,
     "metadata": {},
     "output_type": "execute_result"
    }
   ],
   "source": [
    "# Checking the dataframe index\n",
    "df.index"
   ]
  },
  {
   "cell_type": "markdown",
   "id": "bf4f0e09-cd89-4935-b0f9-7b48346de16a",
   "metadata": {},
   "source": [
    "## `Feature Engineering Holidays`"
   ]
  },
  {
   "cell_type": "code",
   "execution_count": 8,
   "id": "6263b6f9-f8eb-4a0f-9bd3-a0d5cbfea0c0",
   "metadata": {},
   "outputs": [
    {
     "ename": "KeyError",
     "evalue": "'Date'",
     "output_type": "error",
     "traceback": [
      "\u001b[1;31m---------------------------------------------------------------------------\u001b[0m",
      "\u001b[1;31mKeyError\u001b[0m                                  Traceback (most recent call last)",
      "File \u001b[1;32m~\\anaconda3\\envs\\dojo-env\\lib\\site-packages\\pandas\\core\\indexes\\base.py:3802\u001b[0m, in \u001b[0;36mIndex.get_loc\u001b[1;34m(self, key, method, tolerance)\u001b[0m\n\u001b[0;32m   3801\u001b[0m \u001b[38;5;28;01mtry\u001b[39;00m:\n\u001b[1;32m-> 3802\u001b[0m     \u001b[38;5;28;01mreturn\u001b[39;00m \u001b[38;5;28;43mself\u001b[39;49m\u001b[38;5;241;43m.\u001b[39;49m\u001b[43m_engine\u001b[49m\u001b[38;5;241;43m.\u001b[39;49m\u001b[43mget_loc\u001b[49m\u001b[43m(\u001b[49m\u001b[43mcasted_key\u001b[49m\u001b[43m)\u001b[49m\n\u001b[0;32m   3803\u001b[0m \u001b[38;5;28;01mexcept\u001b[39;00m \u001b[38;5;167;01mKeyError\u001b[39;00m \u001b[38;5;28;01mas\u001b[39;00m err:\n",
      "File \u001b[1;32m~\\anaconda3\\envs\\dojo-env\\lib\\site-packages\\pandas\\_libs\\index.pyx:138\u001b[0m, in \u001b[0;36mpandas._libs.index.IndexEngine.get_loc\u001b[1;34m()\u001b[0m\n",
      "File \u001b[1;32m~\\anaconda3\\envs\\dojo-env\\lib\\site-packages\\pandas\\_libs\\index.pyx:165\u001b[0m, in \u001b[0;36mpandas._libs.index.IndexEngine.get_loc\u001b[1;34m()\u001b[0m\n",
      "File \u001b[1;32mpandas\\_libs\\hashtable_class_helper.pxi:5745\u001b[0m, in \u001b[0;36mpandas._libs.hashtable.PyObjectHashTable.get_item\u001b[1;34m()\u001b[0m\n",
      "File \u001b[1;32mpandas\\_libs\\hashtable_class_helper.pxi:5753\u001b[0m, in \u001b[0;36mpandas._libs.hashtable.PyObjectHashTable.get_item\u001b[1;34m()\u001b[0m\n",
      "\u001b[1;31mKeyError\u001b[0m: 'Date'",
      "\nThe above exception was the direct cause of the following exception:\n",
      "\u001b[1;31mKeyError\u001b[0m                                  Traceback (most recent call last)",
      "Cell \u001b[1;32mIn[8], line 2\u001b[0m\n\u001b[0;32m      1\u001b[0m \u001b[38;5;66;03m# making a date range that covers full dataset\u001b[39;00m\n\u001b[1;32m----> 2\u001b[0m all_days \u001b[38;5;241m=\u001b[39m pd\u001b[38;5;241m.\u001b[39mdate_range(\u001b[43mdf\u001b[49m\u001b[43m[\u001b[49m\u001b[38;5;124;43m\"\u001b[39;49m\u001b[38;5;124;43mDate\u001b[39;49m\u001b[38;5;124;43m\"\u001b[39;49m\u001b[43m]\u001b[49m\u001b[38;5;241m.\u001b[39mmin(), df[\u001b[38;5;124m\"\u001b[39m\u001b[38;5;124mDate\u001b[39m\u001b[38;5;124m\"\u001b[39m]\u001b[38;5;241m.\u001b[39mmax())\n\u001b[0;32m      3\u001b[0m all_days\n",
      "File \u001b[1;32m~\\anaconda3\\envs\\dojo-env\\lib\\site-packages\\pandas\\core\\frame.py:3807\u001b[0m, in \u001b[0;36mDataFrame.__getitem__\u001b[1;34m(self, key)\u001b[0m\n\u001b[0;32m   3805\u001b[0m \u001b[38;5;28;01mif\u001b[39;00m \u001b[38;5;28mself\u001b[39m\u001b[38;5;241m.\u001b[39mcolumns\u001b[38;5;241m.\u001b[39mnlevels \u001b[38;5;241m>\u001b[39m \u001b[38;5;241m1\u001b[39m:\n\u001b[0;32m   3806\u001b[0m     \u001b[38;5;28;01mreturn\u001b[39;00m \u001b[38;5;28mself\u001b[39m\u001b[38;5;241m.\u001b[39m_getitem_multilevel(key)\n\u001b[1;32m-> 3807\u001b[0m indexer \u001b[38;5;241m=\u001b[39m \u001b[38;5;28;43mself\u001b[39;49m\u001b[38;5;241;43m.\u001b[39;49m\u001b[43mcolumns\u001b[49m\u001b[38;5;241;43m.\u001b[39;49m\u001b[43mget_loc\u001b[49m\u001b[43m(\u001b[49m\u001b[43mkey\u001b[49m\u001b[43m)\u001b[49m\n\u001b[0;32m   3808\u001b[0m \u001b[38;5;28;01mif\u001b[39;00m is_integer(indexer):\n\u001b[0;32m   3809\u001b[0m     indexer \u001b[38;5;241m=\u001b[39m [indexer]\n",
      "File \u001b[1;32m~\\anaconda3\\envs\\dojo-env\\lib\\site-packages\\pandas\\core\\indexes\\base.py:3804\u001b[0m, in \u001b[0;36mIndex.get_loc\u001b[1;34m(self, key, method, tolerance)\u001b[0m\n\u001b[0;32m   3802\u001b[0m     \u001b[38;5;28;01mreturn\u001b[39;00m \u001b[38;5;28mself\u001b[39m\u001b[38;5;241m.\u001b[39m_engine\u001b[38;5;241m.\u001b[39mget_loc(casted_key)\n\u001b[0;32m   3803\u001b[0m \u001b[38;5;28;01mexcept\u001b[39;00m \u001b[38;5;167;01mKeyError\u001b[39;00m \u001b[38;5;28;01mas\u001b[39;00m err:\n\u001b[1;32m-> 3804\u001b[0m     \u001b[38;5;28;01mraise\u001b[39;00m \u001b[38;5;167;01mKeyError\u001b[39;00m(key) \u001b[38;5;28;01mfrom\u001b[39;00m \u001b[38;5;21;01merr\u001b[39;00m\n\u001b[0;32m   3805\u001b[0m \u001b[38;5;28;01mexcept\u001b[39;00m \u001b[38;5;167;01mTypeError\u001b[39;00m:\n\u001b[0;32m   3806\u001b[0m     \u001b[38;5;66;03m# If we have a listlike key, _check_indexing_error will raise\u001b[39;00m\n\u001b[0;32m   3807\u001b[0m     \u001b[38;5;66;03m#  InvalidIndexError. Otherwise we fall through and re-raise\u001b[39;00m\n\u001b[0;32m   3808\u001b[0m     \u001b[38;5;66;03m#  the TypeError.\u001b[39;00m\n\u001b[0;32m   3809\u001b[0m     \u001b[38;5;28mself\u001b[39m\u001b[38;5;241m.\u001b[39m_check_indexing_error(key)\n",
      "\u001b[1;31mKeyError\u001b[0m: 'Date'"
     ]
    }
   ],
   "source": [
    "# making a date range that covers full dataset\n",
    "all_days = pd.date_range(df[\"Date\"].min(), df[\"Date\"].max())\n",
    "all_days"
   ]
  },
  {
   "cell_type": "code",
   "execution_count": null,
   "id": "ab28b7fe-2dd6-4a35-b57f-049d574de8b1",
   "metadata": {},
   "outputs": [],
   "source": [
    "# Create an instance of the US country holidays.\n",
    "us_holidays = country_holidays('US')\n",
    "us_holidays"
   ]
  },
  {
   "cell_type": "code",
   "execution_count": null,
   "id": "d250a79d-2d9a-409a-851b-26d506c26e22",
   "metadata": {},
   "outputs": [],
   "source": [
    "# Testing first date\n",
    "print(all_days[0])\n",
    "us_holidays.get(all_days[0])"
   ]
  },
  {
   "cell_type": "code",
   "execution_count": null,
   "id": "455c034a-5a4a-41c9-9e80-457f048a001d",
   "metadata": {},
   "outputs": [],
   "source": [
    "# Getting us holidays for all dates\n",
    "holiday_list = [us_holidays.get(day) for day in all_days]"
   ]
  },
  {
   "cell_type": "code",
   "execution_count": null,
   "id": "7ecd4e89-893b-4e69-b3dd-ea3bc3d41d72",
   "metadata": {},
   "outputs": [],
   "source": [
    "# For a specific subdivisions (e.g. state or province):\n",
    "il_holidays = country_holidays('US', subdiv='IL')\n",
    "il_holidays"
   ]
  },
  {
   "cell_type": "code",
   "execution_count": null,
   "id": "a61b3fcb-f80f-45d6-87a2-9d9dd76fc55a",
   "metadata": {},
   "outputs": [],
   "source": [
    "# Saving both holiday types as columns\n",
    "df[\"US Holiday\"] = [us_holidays.get(day) for day in df['Date']]\n",
    "df['IL Holiday'] = [il_holidays.get(day) for day in df['Date']]\n",
    "df.head()"
   ]
  },
  {
   "cell_type": "code",
   "execution_count": null,
   "id": "6fd5c016-c021-4aee-84df-4a5c5ea75e0c",
   "metadata": {},
   "outputs": [],
   "source": [
    "# US Holidays\n",
    "df['US Holiday'].value_counts()"
   ]
  },
  {
   "cell_type": "code",
   "execution_count": null,
   "id": "e2c5ea07-1ead-483d-8d6b-ffba1d015da2",
   "metadata": {},
   "outputs": [],
   "source": [
    "Illinois Holidays\n",
    "df['IL Holiday'].value_counts()"
   ]
  },
  {
   "cell_type": "code",
   "execution_count": null,
   "id": "1ad5ad47-5cd0-4aa2-8805-37884ac713ee",
   "metadata": {},
   "outputs": [],
   "source": [
    "# Saving a binary is holiday feature\n",
    "df['Is_Holiday'] = df['US Holiday'].notna()\n",
    "df['Is_Holiday'].value_counts()"
   ]
  },
  {
   "cell_type": "code",
   "execution_count": null,
   "id": "41374f8c-c852-4122-accb-845036dd8bb5",
   "metadata": {},
   "outputs": [],
   "source": [
    "# Convert the list to a datetime object\n",
    "df['Date'] = pd.to_datetime(df['Date'], format='%m/%d/%Y %I:%M:%S %p')\n",
    "df['Date']"
   ]
  },
  {
   "cell_type": "code",
   "execution_count": null,
   "id": "1b17ce02-75a6-4fe6-8055-f70cfa370cf5",
   "metadata": {},
   "outputs": [],
   "source": [
    "# Setting the index\n",
    "df = df.set_index('Date')\n",
    "df"
   ]
  },
  {
   "cell_type": "code",
   "execution_count": null,
   "id": "7f779fe6-a908-422c-ab58-ed961d433954",
   "metadata": {},
   "outputs": [],
   "source": [
    "# Sorting df index\n",
    "df = df.sort_index()"
   ]
  },
  {
   "cell_type": "code",
   "execution_count": null,
   "id": "2490a92d-b858-4b79-897d-61c0415b9b7b",
   "metadata": {},
   "outputs": [],
   "source": [
    "# Creating a Copy df_crime\n",
    "df_crime = df.copy()"
   ]
  },
  {
   "cell_type": "code",
   "execution_count": null,
   "id": "6ace7808-b77f-4422-b736-baf45eb3e001",
   "metadata": {},
   "outputs": [],
   "source": [
    "# Grouping by \"Primary Type\" and resampling to daily\n",
    "crime_counts = df_crime.groupby('Primary Type').resample('D').size()\n",
    "crime_counts"
   ]
  },
  {
   "cell_type": "code",
   "execution_count": null,
   "id": "f2a8e807-69e4-44d9-ad57-527119327028",
   "metadata": {},
   "outputs": [],
   "source": [
    "df_counts = crime_counts.unstack(level=0)\n",
    "df_counts = df_counts.fillna(0)\n",
    "df_counts"
   ]
  },
  {
   "cell_type": "code",
   "execution_count": null,
   "id": "364ae728-89eb-4d0d-badf-68edb25fced4",
   "metadata": {},
   "outputs": [],
   "source": [
    "# Adding Year, Month, Hour of Day and Day of Week to df (Feature Engineering)\n",
    "df_crime['Date Only'] = df_crime.index.date\n",
    "df_crime[\"Date Only\"] = df_crime[\"Date Only\"].astype(str)\n",
    "\n",
    "df_crime['HourOfDay'] = df_crime.index.hour\n",
    "df_crime['Year'] = df_crime.index.month\n",
    "df_crime['DayOfWeek'] = df_crime.index.day_name()\n",
    "df_crime.head()"
   ]
  },
  {
   "cell_type": "markdown",
   "id": "52f7307d-69cc-4340-b0fa-f529365115d9",
   "metadata": {},
   "source": [
    "## <u>Topic 1) Comparing Police Districts</u>\n",
    "* Which district had the most crimes in 2022?\n",
    "* Which had the least?"
   ]
  },
  {
   "cell_type": "code",
   "execution_count": null,
   "id": "d99c3311-d935-4e1b-b1f9-98540568e7c8",
   "metadata": {},
   "outputs": [],
   "source": [
    "df['District'].value_counts()"
   ]
  },
  {
   "cell_type": "markdown",
   "id": "59fa5d73-18c8-48ac-88c8-00450ddc03b6",
   "metadata": {},
   "source": [
    "### `The highest amount of crimes was in district 8 the lowest was in district 21.`"
   ]
  },
  {
   "cell_type": "markdown",
   "id": "c09d09b9-ad76-4dc8-b4d9-6fd3718f93c4",
   "metadata": {},
   "source": [
    "## <u>Topic 2) Crimes Across the Years:</u>\n",
    "* Is the total number of crimes increasing or decreasing across the years?"
   ]
  },
  {
   "cell_type": "code",
   "execution_count": null,
   "id": "27e3cf83-2fe6-4a09-a5f4-f9592f5feeea",
   "metadata": {},
   "outputs": [],
   "source": [
    "#df = df_crime.resample(\"A\").size()\n",
    "df_annual  = df_crime.groupby(\"Year\").size()\n",
    "df_annual.head()"
   ]
  },
  {
   "cell_type": "code",
   "execution_count": null,
   "id": "eaf4c3a3-6eec-4d23-869d-2e60475dfd09",
   "metadata": {},
   "outputs": [],
   "source": [
    "ax = df_annual.plot(style='0-')"
   ]
  },
  {
   "cell_type": "markdown",
   "id": "ac9e7a17-3966-4277-ad71-5b44e6cf0dad",
   "metadata": {},
   "source": [
    "* `Are there any individual crimes that are doing the opposite` ***`(e.g., decreasing when overall crime is increasing or vice-versa)`***?"
   ]
  },
  {
   "cell_type": "code",
   "execution_count": null,
   "id": "ff5466bb-aaa7-4e37-8656-24849ca62970",
   "metadata": {},
   "outputs": [],
   "source": [
    "df_annual_by_crime = df_crime.groupby(['Primary Type'])['Year'].value_counts().sort_index()\n",
    "df_annual_by_crime"
   ]
  },
  {
   "cell_type": "markdown",
   "id": "0ccc7942-9673-4b99-885d-6dbb3b027ac3",
   "metadata": {},
   "source": [
    "## <u>Topic 3)Comparing AM vs PM Rush Hour:</u>\n",
    "* Are crimes more common during the AM rush hour or PM rush hour?\n",
    "    * You can consider any crime that occurred between 7 AM - 10 am as AM rush hour.\n",
    "    * You can consider any crime that occured between 4 - 7 PM as PM rush hour.\n",
    "* `Answer the questions:` What are the top 5  most common crimes during AM rush hour? What are the top 5 most common crimes during PM rush hour?\n",
    "* `Answer the questions:` Are Motor Vehicle Thefts more common during AM rush hour or PM rsuh hour?"
   ]
  },
  {
   "cell_type": "code",
   "execution_count": null,
   "id": "dc4340d0-d40d-436c-826b-edfcca1e12e2",
   "metadata": {},
   "outputs": [],
   "source": []
  },
  {
   "cell_type": "markdown",
   "id": "2fd881f7-3fce-4127-981b-edb1bb9a5b40",
   "metadata": {},
   "source": [
    "## <u>Topic 4) Comparing Months:\n",
    "* `Answer the questions:` What months have the most crime? What months have the least?"
   ]
  },
  {
   "cell_type": "code",
   "execution_count": null,
   "id": "3339255a-18b0-4241-8bd5-6e208475ab64",
   "metadata": {},
   "outputs": [],
   "source": []
  },
  {
   "cell_type": "markdown",
   "id": "f3be1a46-e1e0-42b3-a5c1-cbe81fe38feb",
   "metadata": {},
   "source": [
    "* `Answer the questions:` Are there any individual crimes that do not follow this patter? If so, which crimes?"
   ]
  },
  {
   "cell_type": "code",
   "execution_count": null,
   "id": "aa937690-8588-4857-9961-ad35ea8c4325",
   "metadata": {},
   "outputs": [],
   "source": []
  },
  {
   "cell_type": "markdown",
   "id": "866a4230-546a-4de7-b7e0-4abe02575c47",
   "metadata": {},
   "source": [
    "## <u>Topic 5) Comparing Months:</u>"
   ]
  },
  {
   "cell_type": "markdown",
   "id": "78acc10f-88d1-4a76-9963-0e8d349c4271",
   "metadata": {},
   "source": [
    "* `Answer the questions:` What are the top 3 holidays with the largest number of crimes?"
   ]
  },
  {
   "cell_type": "code",
   "execution_count": null,
   "id": "5a4d226a-ff93-4f1c-84af-0d898813a2b7",
   "metadata": {},
   "outputs": [],
   "source": [
    "# Looking at US Holidays\n",
    "df['US Holiday'].value_counts()"
   ]
  },
  {
   "cell_type": "markdown",
   "id": "50467b8a-d38c-4e4d-ae09-415f32b8970d",
   "metadata": {},
   "source": [
    "`Top 3 Holiday for crime are` "
   ]
  },
  {
   "cell_type": "markdown",
   "id": "7b086270-f83a-48ce-b472-bd179b6f69c3",
   "metadata": {},
   "source": [
    "* `Answer the questions:` For each of the top 3 Holidays with the the most crime, what are the top 5 most common crimes of that holiday?"
   ]
  },
  {
   "cell_type": "code",
   "execution_count": null,
   "id": "688d50ef-a576-4a37-a61c-5b451f516b30",
   "metadata": {},
   "outputs": [],
   "source": [
    "df.groupby('US Holiday')['Primary Type'].value_counts()"
   ]
  },
  {
   "cell_type": "code",
   "execution_count": null,
   "id": "915556be-c62f-4ecc-bd97-68a33860e680",
   "metadata": {},
   "outputs": [],
   "source": [
    "# Plot New Year's Day crimes counts by types\n",
    "ax = holiday.loc[\"New Year's Day\"].plot(kind='bar')\n",
    "ax.set(title=\"New Years Day Crimes\", ylabel='# of Crimes');"
   ]
  },
  {
   "cell_type": "markdown",
   "id": "9b6f66ca-f793-4735-87e7-bb8655b9c048",
   "metadata": {},
   "source": [
    "## <u>Topic 6) What cycles (seasonality) can you find in this data?\n",
    "* **Make sure to select the data of interest and that it is resampled to the frequency you want.** `(See the \"Suggested data to check for seasons\" list at the bottom of topic for suggestions).`\n",
    "* **Use statmodels.tsa.seasonal.seasonal_decompose() the time series.**\n",
    "    *  `Note:` seasonal_decompose cannot read data resampled as minutes or smaller, and ifyou try seconds, you will crash you computer. Keep your resampling at hours or more.\n",
    "* **Show and describe each cycle you can find.**\n",
    "    * ***(Hint: If your seasonal results are too dense to read, try zooming in to look at just one year or one month and try different levels of resampling).***\n",
    "    * `Answer the questions:` How long is a cycle?\n",
    "    * `Answer the questions:` What is the magnitude of the cycle? ***(Compare min and max)***\n",
    "* <u>Suggested data to check for seasons:</u>\n",
    "    * Total Crime `(Daily)`\n",
    "    * Total Crime `(Weekly)`\n",
    "    * Total Crime `(Monthly)`\n",
    "    * Select a Primary Type of interest to you `(Daily)`\n",
    "    * Select a Primary Type of interest to you `(Weekly)`\n",
    "    * Select a Primary Type of interest to you `(Monthly)`"
   ]
  },
  {
   "cell_type": "code",
   "execution_count": null,
   "id": "128d8db3-3eec-49eb-a763-fbe61862ea57",
   "metadata": {},
   "outputs": [],
   "source": []
  }
 ],
 "metadata": {
  "kernelspec": {
   "display_name": "Python (dojo-env)",
   "language": "python",
   "name": "dojo-env"
  },
  "language_info": {
   "codemirror_mode": {
    "name": "ipython",
    "version": 3
   },
   "file_extension": ".py",
   "mimetype": "text/x-python",
   "name": "python",
   "nbconvert_exporter": "python",
   "pygments_lexer": "ipython3",
   "version": "3.10.10"
  },
  "widgets": {
   "application/vnd.jupyter.widget-state+json": {
    "state": {},
    "version_major": 2,
    "version_minor": 0
   }
  }
 },
 "nbformat": 4,
 "nbformat_minor": 5
}
